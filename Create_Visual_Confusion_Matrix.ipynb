{
 "cells": [
  {
   "cell_type": "code",
   "execution_count": 1,
   "metadata": {
    "collapsed": true
   },
   "outputs": [],
   "source": [
    "import pandas as pd\n",
    "import numpy as np\n",
    "import matplotlib.pyplot as plt\n",
    "%matplotlib inline"
   ]
  },
  {
   "cell_type": "code",
   "execution_count": 2,
   "metadata": {
    "collapsed": true
   },
   "outputs": [],
   "source": [
    "def plot_confusion_matrix(cm, pred_labels, actual_labels,\n",
    "                          normalize=False, recall = False,\n",
    "                          title='Confusion matrix',cmap=plt.cm.Blues):\n",
    "    \"\"\"\n",
    "    This function prints and plots the confusion matrix.\n",
    "    Normalization can be applied by setting `normalize=True`.\n",
    "    \"\"\"\n",
    "    cm = np.array(cm)\n",
    "\n",
    "    if normalize:\n",
    "        if recall == False:\n",
    "            cm = cm.astype('float') / cm.sum(axis=0)[np.newaxis, :]\n",
    "        elif recall == True:\n",
    "            cm = cm.astype('float') / cm.sum(axis=1)[:, np.newaxis]\n",
    "    \n",
    "    else:\n",
    "        pass\n",
    "    plt.imshow(cm, interpolation='nearest', cmap=cmap)\n",
    "    plt.title(title, size=15)\n",
    "    plt.colorbar()\n",
    "    tick_marks = np.arange(len(pred_labels))\n",
    "    plt.xticks(tick_marks, pred_labels, rotation=45, size=14)\n",
    "    plt.yticks(tick_marks, actual_labels, size=14)\n",
    "\n",
    "    fmt = '.2f' if normalize else 'd'\n",
    "    thresh = 0.5 if normalize else cm.max() / 2\n",
    "    for i, j in itertools.product(range(cm.shape[0]), range(cm.shape[1])):\n",
    "        plt.text(j, i, format(cm[i, j], fmt),\n",
    "                 horizontalalignment=\"center\",\n",
    "                 color=\"white\" if cm[i, j] > thresh else \"black\")\n",
    "\n",
    "        plt.tight_layout()\n",
    "    plt.ylabel('Actual', size=20)\n",
    "    plt.xlabel('Prediction', size=20)"
   ]
  },
  {
   "cell_type": "code",
   "execution_count": 3,
   "metadata": {
    "collapsed": true
   },
   "outputs": [],
   "source": [
    "#table = pd.read_csv..."
   ]
  },
  {
   "cell_type": "code",
   "execution_count": null,
   "metadata": {
    "collapsed": true
   },
   "outputs": [],
   "source": [
    "pred_labels = ['Angry', 'Disgust', 'Fear', 'Happy', 'Sad', 'Surprise', 'Neutral']\n",
    "actual_labels = ['Angry', 'Disgust', 'Fear', 'Happy', 'Sad', 'Surprise', 'Neutral']\n",
    "\n",
    "# Plot non-normalized confusion matrix\n",
    "plt.figure(figsize=[6,6])\n",
    "plot_confusion_matrix(table, pred_labels, actual_labels,\n",
    "                      title='Confusion matrix (Counts)')\n",
    "\n",
    "# Plot normalized confusion matrix\n",
    "plt.figure(figsize=[6,6])\n",
    "\n",
    "plot_confusion_matrix(table, actual_labels, pred_labels, normalize=True,\n",
    "                      title='Normalized confusion matrix - Precision',\n",
    "                     recall = False)\n",
    "\n",
    "plt.figure(figsize=[6,6])\n",
    "plot_confusion_matrix(table, pred_labels, actual_labels, normalize=True,\n",
    "                      title='Normalized confusion matrix - Recall',\n",
    "                     recall = True)"
   ]
  }
 ],
 "metadata": {
  "kernelspec": {
   "display_name": "Python [Root]",
   "language": "python",
   "name": "Python [Root]"
  },
  "language_info": {
   "codemirror_mode": {
    "name": "ipython",
    "version": 3
   },
   "file_extension": ".py",
   "mimetype": "text/x-python",
   "name": "python",
   "nbconvert_exporter": "python",
   "pygments_lexer": "ipython3",
   "version": "3.5.2"
  }
 },
 "nbformat": 4,
 "nbformat_minor": 0
}
